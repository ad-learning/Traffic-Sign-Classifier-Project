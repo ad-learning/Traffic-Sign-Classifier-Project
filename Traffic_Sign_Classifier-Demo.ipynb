{
 "cells": [
  {
   "cell_type": "markdown",
   "metadata": {},
   "source": [
    "---\n",
    "## Step 0: Load The Data"
   ]
  },
  {
   "cell_type": "code",
   "execution_count": 1,
   "metadata": {},
   "outputs": [],
   "source": [
    "# Load pickled data\n",
    "import pickle\n",
    "\n",
    "# TODO: Fill this in based on where you saved the training and testing data\n",
    "\n",
    "training_file = 'traffic-signs-data/train.p'\n",
    "validation_file='traffic-signs-data/valid.p'\n",
    "testing_file = 'traffic-signs-data/test.p'\n",
    "\n",
    "with open(training_file, mode='rb') as f:\n",
    "    train = pickle.load(f)\n",
    "with open(validation_file, mode='rb') as f:\n",
    "    valid = pickle.load(f)\n",
    "with open(testing_file, mode='rb') as f:\n",
    "    test = pickle.load(f)\n",
    "    \n",
    "X_train, y_train, size_train, coords_train = train['features'], train['labels'], train['sizes'], train['coords']\n",
    "X_valid, y_valid, size_valid, coords_valid = valid['features'], valid['labels'], valid['sizes'], valid['coords']\n",
    "X_test, y_test, size_test, coords_test  = test['features'], test['labels'], test['sizes'], test['coords']"
   ]
  },
  {
   "cell_type": "markdown",
   "metadata": {},
   "source": [
    "---\n",
    "\n",
    "## Step 1: Dataset Summary & Exploration\n",
    "\n",
    "The pickled data is a dictionary with 4 key/value pairs:\n",
    "\n",
    "- `'features'` is a 4D array containing raw pixel data of the traffic sign images, (num examples, width, height, channels).\n",
    "- `'labels'` is a 1D array containing the label/class id of the traffic sign. The file `signnames.csv` contains id -> name mappings for each id.\n",
    "- `'sizes'` is a list containing tuples, (width, height) representing the original width and height the image.\n",
    "- `'coords'` is a list containing tuples, (x1, y1, x2, y2) representing coordinates of a bounding box around the sign in the image. **THESE COORDINATES ASSUME THE ORIGINAL IMAGE. THE PICKLED DATA CONTAINS RESIZED VERSIONS (32 by 32) OF THESE IMAGES**\n",
    "\n",
    "Complete the basic data summary below. Use python, numpy and/or pandas methods to calculate the data summary rather than hard coding the results. For example, the [pandas shape method](http://pandas.pydata.org/pandas-docs/stable/generated/pandas.DataFrame.shape.html) might be useful for calculating some of the summary results. "
   ]
  },
  {
   "cell_type": "markdown",
   "metadata": {},
   "source": [
    "### Provide a Basic Summary of the Data Set Using Python, Numpy and/or Pandas"
   ]
  },
  {
   "cell_type": "code",
   "execution_count": 2,
   "metadata": {},
   "outputs": [
    {
     "name": "stdout",
     "output_type": "stream",
     "text": [
      "Number of training examples = 34799\n",
      "Number of validation examples = 4410\n",
      "Number of testing examples = 12630\n",
      "Image data shape = (32, 32, 3)\n",
      "Number of classes = 43\n"
     ]
    }
   ],
   "source": [
    "### Replace each question mark with the appropriate value. \n",
    "### Use python, pandas or numpy methods rather than hard coding the results\n",
    "\n",
    "# TODO: Number of training examples\n",
    "n_train = X_train.shape[0]\n",
    "\n",
    "# TODO: Number of validation examples\n",
    "n_validation = X_valid.shape[0]\n",
    "\n",
    "# TODO: Number of testing examples.\n",
    "n_test = X_test.shape[0]\n",
    "\n",
    "# TODO: What's the shape of an traffic sign image?\n",
    "image_shape = X_train[0].shape#[1, size_train.shape[1]]\n",
    "\n",
    "# TODO: How many unique classes/labels there are in the dataset.\n",
    "n_classes = len(set(y_train))\n",
    "\n",
    "print(\"Number of training examples =\", n_train)\n",
    "print(\"Number of validation examples =\", n_validation)\n",
    "print(\"Number of testing examples =\", n_test)\n",
    "print(\"Image data shape =\", image_shape)\n",
    "print(\"Number of classes =\", n_classes)"
   ]
  },
  {
   "cell_type": "markdown",
   "metadata": {},
   "source": [
    "### Include an exploratory visualization of the dataset"
   ]
  },
  {
   "cell_type": "markdown",
   "metadata": {},
   "source": [
    "Visualize the German Traffic Signs Dataset using the pickled file(s). This is open ended, suggestions include: plotting traffic sign images, plotting the count of each sign, etc. \n",
    "\n",
    "The [Matplotlib](http://matplotlib.org/) [examples](http://matplotlib.org/examples/index.html) and [gallery](http://matplotlib.org/gallery.html) pages are a great resource for doing visualizations in Python.\n",
    "\n",
    "**NOTE:** It's recommended you start with something simple first. If you wish to do more, come back to it after you've completed the rest of the sections. It can be interesting to look at the distribution of classes in the training, validation and test set. Is the distribution the same? Are there more examples of some classes than others?"
   ]
  },
  {
   "cell_type": "code",
   "execution_count": 3,
   "metadata": {
    "scrolled": true
   },
   "outputs": [],
   "source": [
    "### Data exploration visualization code goes here.\n",
    "### Feel free to use as many code cells as needed.\n",
    "import random\n",
    "import numpy as np\n",
    "import cv2\n",
    "import matplotlib.pyplot as plt\n",
    "# Visualizations will be shown in the notebook.\n",
    "%matplotlib inline"
   ]
  },
  {
   "cell_type": "markdown",
   "metadata": {},
   "source": [
    "----\n",
    "\n",
    "## Step 2: Design and Test a Model Architecture\n",
    "\n",
    "Design and implement a deep learning model that learns to recognize traffic signs. Train and test your model on the [German Traffic Sign Dataset](http://benchmark.ini.rub.de/?section=gtsrb&subsection=dataset).\n",
    "\n",
    "There are various aspects to consider when thinking about this problem:\n",
    "\n",
    "- Neural network architecture (is the network over or underfitting?)\n",
    "- Play around preprocessing techniques (normalization, rgb to grayscale, etc)\n",
    "- Number of examples per label (some have more than others).\n",
    "- Generate fake data.\n",
    "\n",
    "Here is an example of a [published baseline model on this problem](http://yann.lecun.com/exdb/publis/pdf/sermanet-ijcnn-11.pdf). It's not required to be familiar with the approach used in the paper but, it's good practice to try to read papers like these."
   ]
  },
  {
   "cell_type": "markdown",
   "metadata": {},
   "source": [
    "### Pre-process the Data Set (normalization, grayscale, etc.)"
   ]
  },
  {
   "cell_type": "markdown",
   "metadata": {},
   "source": [
    "Minimally, the image data should be normalized so that the data has mean zero and equal variance. For image data, `(pixel - 128)/ 128` is a quick way to approximately normalize the data and can be used in this project. \n",
    "\n",
    "Other pre-processing steps are optional. You can try different techniques to see if it improves performance. \n",
    "\n",
    "Use the code cell (or multiple code cells, if necessary) to implement the first step of your project."
   ]
  },
  {
   "cell_type": "code",
   "execution_count": 4,
   "metadata": {},
   "outputs": [],
   "source": [
    "### Preprocess the data.\n",
    "### convert the data set to normalize it.\n",
    "\n",
    "X_train_norm=np.empty([n_train,image_shape[0],image_shape[1],3])\n",
    "X_test_norm=np.empty([n_test,image_shape[0],image_shape[1],3])\n",
    "X_valid_norm=np.empty([n_validation,image_shape[0],image_shape[1],3])\n",
    "\n",
    "#X_train_norm=X_train/256\n",
    "#X_test_norm=X_test/256\n",
    "#X_valid_norm=X_valid/256\n",
    "\n",
    "#X_train_norm2=(X_train-128)/256\n",
    "\n",
    "X_train_norm = (X_train - X_train.mean()) / (np.max(X_train) - np.min(X_train))\n",
    "X_test_norm = (X_test - X_test.mean()) / (np.max(X_test) - np.min(X_test))\n",
    "X_valid_norm = (X_valid - X_valid.mean()) / (np.max(X_valid) - np.min(X_valid))"
   ]
  },
  {
   "cell_type": "code",
   "execution_count": 5,
   "metadata": {},
   "outputs": [
    {
     "name": "stderr",
     "output_type": "stream",
     "text": [
      "Clipping input data to the valid range for imshow with RGB data ([0..1] for floats or [0..255] for integers).\n"
     ]
    },
    {
     "name": "stdout",
     "output_type": "stream",
     "text": [
      "33\n"
     ]
    },
    {
     "data": {
      "text/plain": [
       "<matplotlib.image.AxesImage at 0x1e88f5c8278>"
      ]
     },
     "execution_count": 5,
     "metadata": {},
     "output_type": "execute_result"
    },
    {
     "data": {
      "image/png": "[encoded data removed]",
      "text/plain": [
       "<Figure size 576x432 with 2 Axes>"
      ]
     },
     "metadata": {
      "needs_background": "light"
     },
     "output_type": "display_data"
    }
   ],
   "source": [
    "### Data exploration visualization. \n",
    "### Compare the Original image, Gray image, and Normalized image\n",
    "\n",
    "#import random\n",
    "#import numpy as np\n",
    "#import cv2\n",
    "#import matplotlib.pyplot as plt\n",
    "# Visualizations will be shown in the notebook.\n",
    "#%matplotlib inline\n",
    "\n",
    "index = random.randint(0, len(X_train))\n",
    "image_norm = X_train_norm[index].squeeze()\n",
    "#image_norm2 = X_train_norm2[index].squeeze()\n",
    "image = X_train[index].squeeze()\n",
    "\n",
    "print(y_train[index])\n",
    "plt.figure(figsize=(8, 6))\n",
    "plt.subplot(131)\n",
    "plt.imshow(image, cmap=\"gray\")\n",
    "\n",
    "plt.subplot(132)\n",
    "plt.imshow(image_norm, cmap=\"gray\")\n",
    "\n",
    "#plt.subplot(133)\n",
    "#plt.imshow(image_norm2, cmap=\"gray\")\n",
    "#plt.show()"
   ]
  },
  {
   "cell_type": "code",
   "execution_count": 6,
   "metadata": {},
   "outputs": [
    {
     "name": "stdout",
     "output_type": "stream",
     "text": [
      "There are 690 Type 40 images.\n"
     ]
    },
    {
     "data": {
      "text/plain": [
       "<matplotlib.image.AxesImage at 0x1e88f6630b8>"
      ]
     },
     "execution_count": 6,
     "metadata": {},
     "output_type": "execute_result"
    },
    {
     "data": {
      "image/png": "[encoded data removed]",
      "text/plain": [
       "<Figure size 432x288 with 1 Axes>"
      ]
     },
     "metadata": {
      "needs_background": "light"
     },
     "output_type": "display_data"
    }
   ],
   "source": [
    "###Check all images of the same type of sign\n",
    "\n",
    "check_sign=y_train.tolist()\n",
    "\n",
    "def list_duplicates_of(seq,item):\n",
    "    start_at = -1\n",
    "    locs = []\n",
    "    while True:\n",
    "        try:\n",
    "            loc = seq.index(item,start_at+1)\n",
    "        except ValueError:\n",
    "            break\n",
    "        else:\n",
    "            locs.append(loc)\n",
    "            start_at = loc\n",
    "    return locs\n",
    "sign_N=40\n",
    "list_sign = list_duplicates_of(check_sign, sign_N)\n",
    "print ('There are %d Type %d images.' % (check_sign.count(14),sign_N))\n",
    "plt.imshow(X_train[random.choice(list_sign)].squeeze())\n",
    "#print (list_duplicates_of(check_sign, 14))"
   ]
  },
  {
   "cell_type": "code",
   "execution_count": 7,
   "metadata": {},
   "outputs": [],
   "source": [
    "### Shuffle the training data.\n",
    "from sklearn.utils import shuffle\n",
    "\n",
    "X_train_norm, y_train = shuffle(X_train_norm, y_train)"
   ]
  },
  {
   "cell_type": "code",
   "execution_count": 9,
   "metadata": {},
   "outputs": [],
   "source": [
    "import tensorflow as tf\n",
    "\n",
    "learning_rate = 0.001\n",
    "EPOCHS = 11\n",
    "BATCH_SIZE = 128"
   ]
  },
  {
   "cell_type": "markdown",
   "metadata": {},
   "source": [
    "### Model Architecture"
   ]
  },
  {
   "cell_type": "code",
   "execution_count": 10,
   "metadata": {},
   "outputs": [],
   "source": [
    "### Define your architecture here.\n",
    "### Feel free to use as many code cells as needed.\n",
    "from tensorflow.contrib.layers import flatten\n",
    "# Hyperparameters\n",
    "mu = 0\n",
    "sigma = 0.1\n",
    "dropout=1\n",
    "\n",
    "conv1_W = tf.Variable(tf.truncated_normal(shape=(5, 5, 3, 6), mean = mu, stddev = sigma),name='conv1_W')\n",
    "conv1_b = tf.Variable(tf.zeros(6),name='conv1_b')\n",
    "                      \n",
    "conv2_W=tf.Variable(tf.truncated_normal(shape=(3,3,6,12),mean=mu,stddev=sigma),name='conv2_W')\n",
    "conv2_b=tf.Variable(tf.zeros(12),name='conv2_b')\n",
    "\n",
    "conv3_W = tf.Variable(tf.truncated_normal(shape=(5, 5, 12, 16), mean = mu, stddev = sigma),name='conv3_W')\n",
    "conv3_b = tf.Variable(tf.zeros(16),name='conv3_b')\n",
    "\n",
    "fc1_W = tf.Variable(tf.truncated_normal(shape=(400, 120), mean = mu, stddev = sigma),name='fc1_W')\n",
    "fc1_b = tf.Variable(tf.zeros(120),name='fc1_b')\n",
    "\n",
    "fc2_W  = tf.Variable(tf.truncated_normal(shape=(120, 84), mean = mu, stddev = sigma),name='fc2_W')\n",
    "fc2_b  = tf.Variable(tf.zeros(84),name='fc2_b')\n",
    "\n",
    "fc3_W  = tf.Variable(tf.truncated_normal(shape=(84, 43), mean = mu, stddev = sigma),name='fc3_W')\n",
    "fc3_b  = tf.Variable(tf.zeros(43),name='fc3_b')\n",
    "\n",
    "tf.add_to_collection('vars', conv1_W)\n",
    "tf.add_to_collection('vars', conv1_b)\n",
    "tf.add_to_collection('vars', conv2_W)\n",
    "tf.add_to_collection('vars', conv2_b)\n",
    "tf.add_to_collection('vars', conv3_W)\n",
    "tf.add_to_collection('vars', conv3_b)\n",
    "tf.add_to_collection('vars', fc1_W)\n",
    "tf.add_to_collection('vars', fc1_b)\n",
    "tf.add_to_collection('vars', fc2_W)\n",
    "tf.add_to_collection('vars', fc2_b)\n",
    "tf.add_to_collection('vars', fc3_W)\n",
    "tf.add_to_collection('vars', fc3_b)\n",
    "\n",
    "def LeNet(x):    \n",
    "    # SOLUTION: Layer 1: Convolutional. Input = 32x32x3. Output = 28x28x6.\n",
    "    conv1   = tf.nn.conv2d(x, conv1_W, strides=[1, 1, 1, 1], padding='VALID') + conv1_b\n",
    "\n",
    "    # SOLUTION: Activation.\n",
    "    conv1 = tf.nn.relu(conv1)\n",
    "\n",
    "    # SOLUTION: Pooling. Input = 28x28x6. Output = 14x14x6.\n",
    "    conv1 = tf.nn.max_pool(conv1, ksize=[1, 2, 2, 1], strides=[1, 2, 2, 1], padding='VALID')\n",
    "    \n",
    "    \n",
    "    conv2=tf.nn.conv2d(conv1,conv2_W,strides=[1,1,1,1],padding='SAME')+conv2_b    \n",
    "\n",
    "    # SOLUTION: Activation.\n",
    "    #conv2 = tf.nn.relu(conv2)\n",
    "    # SOLUTION: Pooling. Input = 28x28x6. Output = 14x14x6.\n",
    "    #conv2 = tf.nn.max_pool(conv2, ksize=[1, 2, 2, 1], strides=[1, 2, 2, 1], padding='VALID')\n",
    "    \n",
    "    \n",
    "    # SOLUTION: Layer 2: Convolutional. Output = 10x10x16.\n",
    "    \n",
    "    conv3   = tf.nn.conv2d(conv2, conv3_W, strides=[1, 1, 1, 1], padding='VALID') + conv3_b\n",
    "\n",
    "    # SOLUTION: Activation.\n",
    "    conv3 = tf.nn.relu(conv3)\n",
    "\n",
    "    # SOLUTION: Pooling. Input = 10x10x16. Output = 5x5x16.\n",
    "    conv3 = tf.nn.max_pool(conv3, ksize=[1, 2, 2, 1], strides=[1, 2, 2, 1], padding='VALID')\n",
    "\n",
    "    # SOLUTION: Flatten. Input = 5x5x16. Output = 400.\n",
    "    fc0   = flatten(conv3)\n",
    "    fc0   = tf.nn.dropout(fc0,dropout)\n",
    "\n",
    "    # SOLUTION: Layer 3: Fully Connected. Input = 400. Output = 120.\n",
    "    \n",
    "    fc1   = tf.matmul(fc0, fc1_W) + fc1_b\n",
    "\n",
    "    # SOLUTION: Activation.\n",
    "    fc1    = tf.nn.relu(fc1)\n",
    "    fc1    = tf.nn.dropout(fc1,dropout)\n",
    "\n",
    "    # SOLUTION: Layer 4: Fully Connected. Input = 120. Output = 84.\n",
    "    \n",
    "    fc2    = tf.matmul(fc1, fc2_W) + fc2_b\n",
    "\n",
    "    # SOLUTION: Activation.\n",
    "    fc2    = tf.nn.relu(fc2)\n",
    "    fc2 = tf.nn.dropout(fc2, dropout)\n",
    "\n",
    "    # SOLUTION: Layer 5: Fully Connected. Input = 84. Output = 43.\n",
    "    \n",
    "    logits = tf.matmul(fc2, fc3_W) + fc3_b\n",
    "\n",
    "    return logits"
   ]
  },
  {
   "cell_type": "markdown",
   "metadata": {},
   "source": [
    "### Train, Validate and Test the Model"
   ]
  },
  {
   "cell_type": "markdown",
   "metadata": {},
   "source": [
    "A validation set can be used to assess how well the model is performing. A low accuracy on the training and validation\n",
    "sets imply underfitting. A high accuracy on the training set but low accuracy on the validation set implies overfitting."
   ]
  },
  {
   "cell_type": "code",
   "execution_count": 11,
   "metadata": {
    "scrolled": false
   },
   "outputs": [
    {
     "name": "stdout",
     "output_type": "stream",
     "text": [
      "WARNING:tensorflow:From <ipython-input-11-a9722b9d16da>:27: softmax_cross_entropy_with_logits (from tensorflow.python.ops.nn_ops) is deprecated and will be removed in a future version.\n",
      "Instructions for updating:\n",
      "\n",
      "Future major versions of TensorFlow will allow gradients to flow\n",
      "into the labels input on backprop by default.\n",
      "\n",
      "See `tf.nn.softmax_cross_entropy_with_logits_v2`.\n",
      "\n"
     ]
    },
    {
     "data": {
      "text/plain": [
       "(34799, 32, 32, 3)"
      ]
     },
     "execution_count": 11,
     "metadata": {},
     "output_type": "execute_result"
    }
   ],
   "source": [
    "### Train your model here.\n",
    "### Calculate and report the accuracy on the training and validation set.\n",
    "### Once a final model architecture is selected, \n",
    "### the accuracy on the test set should be calculated and reported as well.\n",
    "### Feel free to use as many code cells as needed.\n",
    "\n",
    "x=tf.placeholder(tf.float32,(None,32,32,3))\n",
    "y=tf.placeholder(tf.int32,(None))\n",
    "one_hot_y=tf.one_hot(y,43)\n",
    "\n",
    "logits=LeNet(x)\n",
    "\n",
    "beta=0.001\n",
    "rf1_w=beta*tf.nn.l2_loss(conv1_W)\n",
    "rf1_b=beta*tf.nn.l2_loss(conv1_b)\n",
    "rf2_w=beta*tf.nn.l2_loss(conv2_W)\n",
    "rf2_b=beta*tf.nn.l2_loss(conv2_b)\n",
    "rf3_w=beta*tf.nn.l2_loss(conv3_W)\n",
    "rf3_b=beta*tf.nn.l2_loss(conv3_b)\n",
    "rf3_w=beta*tf.nn.l2_loss(fc1_W)\n",
    "rf3_b=beta*tf.nn.l2_loss(fc1_b)\n",
    "rf4_w=beta*tf.nn.l2_loss(fc2_W)\n",
    "rf4_b=beta*tf.nn.l2_loss(fc2_b)\n",
    "rf5_w=beta*tf.nn.l2_loss(fc3_W)\n",
    "rf5_b=beta*tf.nn.l2_loss(fc3_b)\n",
    "\n",
    "cross_entropy=tf.nn.softmax_cross_entropy_with_logits(logits=logits,labels=one_hot_y)\n",
    "loss_operation=tf.reduce_mean(cross_entropy)+rf1_w+rf1_b+rf2_w+rf2_b+rf3_w+rf3_b+rf3_w+rf3_b+rf4_w+rf4_b+rf5_w+rf5_b\n",
    "optimizer=tf.train.AdamOptimizer(learning_rate=learning_rate)\n",
    "training_operation=optimizer.minimize(loss_operation)\n",
    "\n",
    "cross_prediction=tf.equal(tf.argmax(logits,1),tf.argmax(one_hot_y,1))\n",
    "accuracy_operation=tf.reduce_mean(tf.cast(cross_prediction,tf.float32))\n",
    "\n",
    "def evaluation(X_data,y_data):\n",
    "    num_examples=len(X_data)\n",
    "    total_accuracy=0\n",
    "    sess=tf.get_default_session()\n",
    "    for offset in range(0,num_examples,BATCH_SIZE):\n",
    "        batch_x,batch_y=X_data[offset:offset+BATCH_SIZE],y_data[offset:offset+BATCH_SIZE]\n",
    "        accuracy=sess.run(accuracy_operation,feed_dict={x:batch_x,y:batch_y})\n",
    "        total_accuracy+=(accuracy*len(batch_x))\n",
    "    return total_accuracy/num_examples\n",
    "\n",
    "X_train_norm.shape\n"
   ]
  },
  {
   "cell_type": "code",
   "execution_count": 12,
   "metadata": {},
   "outputs": [],
   "source": [
    "import matplotlib.pyplot as plt\n",
    "import matplotlib.image as mpimg\n",
    "import numpy as np"
   ]
  },
  {
   "cell_type": "code",
   "execution_count": 13,
   "metadata": {},
   "outputs": [
    {
     "name": "stdout",
     "output_type": "stream",
     "text": [
      "Training the model\n",
      "\n",
      "epoch1:\n",
      "the training accuracy:0.830\n",
      "\n",
      "epoch2:\n",
      "the training accuracy:0.934\n",
      "\n",
      "epoch3:\n",
      "the training accuracy:0.959\n",
      "\n",
      "epoch4:\n",
      "the training accuracy:0.966\n",
      "\n",
      "epoch5:\n",
      "the training accuracy:0.980\n",
      "\n",
      "the validation accuracy is: 0.9797414\n",
      "Model saved in file: ./model.ckpt\n",
      "the test accuracy is: 0.88899446\n"
     ]
    }
   ],
   "source": [
    "import numpy as np\n",
    "from sklearn.model_selection import train_test_split\n",
    "\n",
    "training_data,validation_data,training_label,validation_label=train_test_split(X_train_norm,y_train,test_size=0.2)\n",
    "\n",
    "saver = tf.train.Saver()\n",
    "#Training session\n",
    "with tf.Session() as sess:\n",
    "    sess.run(tf.global_variables_initializer())\n",
    "    num_examples=len(training_data)\n",
    "    print(\"Training the model\")\n",
    "    print()\n",
    "    for i in range(EPOCHS):\n",
    "        X_train1,y_train1=shuffle(training_data,training_label)\n",
    "        for offset in range(0,num_examples,BATCH_SIZE):\n",
    "            end=offset+BATCH_SIZE\n",
    "            batch_x,batch_y=X_train_norm[offset:end],y_train[offset:end]\n",
    "            sess.run(training_operation,feed_dict={x:batch_x,y:batch_y})\n",
    "        v_accuracy=evaluation(validation_data,validation_label)\n",
    "        print(\"epoch{}:\".format(i+1))\n",
    "        print(\"the training accuracy:{:.3f}\".format(v_accuracy))\n",
    "        print()\n",
    "        if v_accuracy>=0.975:\n",
    "            break\n",
    "    cross=tf.equal(tf.argmax(logits,1),tf.argmax(one_hot_y,1))\n",
    "    accuracy=tf.reduce_mean(tf.cast(cross_prediction,tf.float32))   \n",
    "    print(\"the validation accuracy is:\",accuracy.eval({x:validation_data,y:validation_label}))\n",
    "    save_path = saver.save(sess, \"./model.ckpt\")\n",
    "    print(\"Model saved in file: %s\" % save_path)\n",
    "    \n",
    "    print(\"the test accuracy is:\",accuracy.eval({x:X_test_norm,y:y_test}))\n",
    "    "
   ]
  },
  {
   "cell_type": "markdown",
   "metadata": {},
   "source": [
    "---\n",
    "\n",
    "## Step 3: Test a Model on New Images\n",
    "\n",
    "To give yourself more insight into how your model is working, download at least five pictures of German traffic signs from the web and use your model to predict the traffic sign type.\n",
    "\n",
    "You may find `signnames.csv` useful as it contains mappings from the class id (integer) to the actual sign name."
   ]
  },
  {
   "cell_type": "markdown",
   "metadata": {},
   "source": [
    "### Load and Output the Images"
   ]
  },
  {
   "cell_type": "code",
   "execution_count": 14,
   "metadata": {},
   "outputs": [
    {
     "name": "stdout",
     "output_type": "stream",
     "text": [
      "5\n"
     ]
    },
    {
     "data": {
      "image/png": "[encoded data removed]",
      "text/plain": [
       "<Figure size 432x288 with 5 Axes>"
      ]
     },
     "metadata": {
      "needs_background": "light"
     },
     "output_type": "display_data"
    }
   ],
   "source": [
    "image1=mpimg.imread('bumpy.png')\n",
    "plt.subplot(1,5,1)\n",
    "plt.axis('off')\n",
    "plt.imshow(image1)\n",
    "\n",
    "image2=mpimg.imread('fifty.png')\n",
    "plt.subplot(1,5,2)\n",
    "plt.axis('off')\n",
    "plt.imshow(image2)\n",
    "\n",
    "image3=mpimg.imread('round.png')\n",
    "plt.subplot(1,5,3)\n",
    "plt.axis('off')\n",
    "plt.imshow(image3)\n",
    "\n",
    "image4=mpimg.imread('slip.png')\n",
    "plt.subplot(1,5,4)\n",
    "plt.axis('off')\n",
    "plt.imshow(image4)\n",
    "\n",
    "image5=mpimg.imread('stop.png')\n",
    "plt.subplot(1,5,5)\n",
    "plt.axis('off')\n",
    "plt.imshow(image5)\n",
    "\n",
    "label=[22,2,40,23,14]\n",
    "print(len(label))\n",
    "\n",
    "resized_image1 = cv2.resize(image1, (32, 32))\n",
    "resized_image2= cv2.resize(image2 ,(32, 32))\n",
    "resized_image3= cv2.resize(image3,(32, 32))\n",
    "resized_image4=cv2.resize(image4,(32, 32))\n",
    "resized_image5=cv2.resize(image5,(32, 32))\n",
    "\n",
    "selected_images=[]\n",
    "selected_images.append(resized_image1[:,:,0:3])\n",
    "selected_images.append(resized_image2[:,:,0:3]) \n",
    "selected_images.append(resized_image3[:,:,0:3])\n",
    "selected_images.append(resized_image4[:,:,0:3]) \n",
    "selected_images.append(resized_image5[:,:,0:3])\n",
    "selected_images=np.array(selected_images)\n",
    "selected_images.shape\n",
    "\n",
    "selected_norm=np.empty([len(label),image_shape[0],image_shape[1],3])\n",
    "\n",
    "selected_norm = (selected_images - selected_images.mean()) / (np.max(selected_images) - np.min(selected_images))\n",
    "\n",
    "dic=['Speed limit (20km/h)','Speed limit (30km/h)','Speed limit (50km/h)','Speed limit (60km/h)','Speed limit (70km/h)',\\\n",
    "     'Speed limit (80km/h)','End of speed limit (80km/h)','Speed limit (100km/h)','Speed limit (120km/h)','No passing',\\\n",
    "     'No passing for vehicles over 3.5 metric tons','Right-of-way at the next intersection','Priority road',\\\n",
    "     'Yield','Stop','No vehicles','Vehicles over 3.5 metric tons prohibited','No entry','General caution',\\\n",
    "     'Dangerous curve to the left','Dangerous curve to the right','Double curve','Bumpy road','Slippery road',\\\n",
    "     'Road narrows on the right','Road work','Traffic signals','Pedestrians','Children crossing','Bicycles crossing',\\\n",
    "     'Beware of ice/snow','Wild animals crossing','End of all speed and passing limits','Turn right ahead','Turn left ahead',\\\n",
    "     'Ahead only','Go straight or right','Go straight or left','Keep right','Keep left','Roundabout mandatory',\\\n",
    "     'End of no passing','End of no passing by vehicles over 3.5 metric tons']\n",
    "\n",
    "predict=tf.argmax(logits,1)\n",
    "showprob=tf.nn.top_k(tf.nn.softmax(logits), k=5)"
   ]
  },
  {
   "cell_type": "markdown",
   "metadata": {},
   "source": [
    "### Predict the Sign Type for Each Image"
   ]
  },
  {
   "cell_type": "markdown",
   "metadata": {},
   "source": [
    "### Analyze Performance"
   ]
  },
  {
   "cell_type": "markdown",
   "metadata": {},
   "source": [
    "### Output Top 5 Softmax Probabilities For Each Image Found on the Web"
   ]
  },
  {
   "cell_type": "code",
   "execution_count": 19,
   "metadata": {},
   "outputs": [
    {
     "name": "stdout",
     "output_type": "stream",
     "text": [
      "Testing the model on new images\n",
      "\n",
      "INFO:tensorflow:Restoring parameters from ./model.ckpt\n",
      "the neural network predicts picture 1 as label 22:"
     ]
    },
    {
     "name": "stderr",
     "output_type": "stream",
     "text": [
      "Clipping input data to the valid range for imshow with RGB data ([0..1] for floats or [0..255] for integers).\n",
      "Clipping input data to the valid range for imshow with RGB data ([0..1] for floats or [0..255] for integers).\n",
      "Clipping input data to the valid range for imshow with RGB data ([0..1] for floats or [0..255] for integers).\n",
      "Clipping input data to the valid range for imshow with RGB data ([0..1] for floats or [0..255] for integers).\n",
      "Clipping input data to the valid range for imshow with RGB data ([0..1] for floats or [0..255] for integers).\n"
     ]
    },
    {
     "name": "stdout",
     "output_type": "stream",
     "text": [
      "\n",
      "The meaning  Bumpy road\n",
      "The actual label is 22. The meaning is Bumpy road:\n",
      " \n",
      "the neural network predicts picture 2 as label 2:\n",
      "The meaning  Speed limit (50km/h)\n",
      "The actual label is 2. The meaning is Speed limit (50km/h):\n",
      " \n",
      "the neural network predicts picture 3 as label 40:\n",
      "The meaning  Roundabout mandatory\n",
      "The actual label is 40. The meaning is Roundabout mandatory:\n",
      " \n",
      "the neural network predicts picture 4 as label 23:\n",
      "The meaning  Slippery road\n",
      "The actual label is 23. The meaning is Slippery road:\n",
      " \n",
      "the neural network predicts picture 5 as label 14:\n",
      "The meaning  Stop\n",
      "The actual label is 14. The meaning is Stop:\n",
      " \n",
      "the total accuracy of my selected images is:  1.0\n",
      " \n",
      "TopKV2(values=array([[1.00000000e+00, 7.02801728e-09, 1.63767844e-09, 9.09931519e-10,\n",
      "        1.08950196e-10],\n",
      "       [9.84914899e-01, 1.50785912e-02, 6.52182280e-06, 5.70219205e-10,\n",
      "        5.19124188e-10],\n",
      "       [1.00000000e+00, 1.90830818e-08, 1.47784107e-09, 8.81813123e-10,\n",
      "        7.58342417e-11],\n",
      "       [9.99071717e-01, 7.84921402e-04, 1.37550509e-04, 3.16512342e-06,\n",
      "        2.31790750e-06],\n",
      "       [9.99938726e-01, 3.31154697e-05, 1.11437485e-05, 8.51944060e-06,\n",
      "        7.87933732e-06]], dtype=float32), indices=array([[22, 26, 25, 29, 28],\n",
      "       [ 2,  1,  0, 19, 35],\n",
      "       [40, 37, 38, 35, 39],\n",
      "       [23, 21, 30, 24, 11],\n",
      "       [14, 29, 15, 17,  1]]))\n"
     ]
    },
    {
     "data": {
      "image/png": "[encoded data removed]",
      "text/plain": [
       "<Figure size 432x288 with 5 Axes>"
      ]
     },
     "metadata": {
      "needs_background": "light"
     },
     "output_type": "display_data"
    }
   ],
   "source": [
    "saver = tf.train.Saver()\n",
    "with tf.Session() as sess:\n",
    "    print(\"Testing the model on new images\")\n",
    "    print()\n",
    "    sess.run(tf.global_variables_initializer())\n",
    "    saver.restore(sess, \"./model.ckpt\")\n",
    "\n",
    "    res=predict.eval({x:selected_norm})\n",
    "    prob=sess.run(showprob,feed_dict={x:selected_norm})\n",
    "    countaccuracy=0\n",
    "    for i in range(len(label)):\n",
    "        print(\"the neural network predicts picture {} as label {}:\".format(i+1,res[i]))\n",
    "        print(\"The meaning \",dic[res[i]])\n",
    "        print(\"The actual label is {}. The meaning is {}:\".format(label[i],dic[label[i]]))\n",
    "        print(\" \")\n",
    "        plt.subplot(1,len(label)+1,i+1)\n",
    "        plt.axis('off')\n",
    "        plt.imshow(selected_norm[i].squeeze())\n",
    "        if(label[i]==res[i]):\n",
    "            countaccuracy+=1\n",
    "    print(\"the total accuracy of my selected images is: \",countaccuracy/len(label))\n",
    "    print(\" \")\n",
    "    print(prob)  "
   ]
  },
  {
   "cell_type": "markdown",
   "metadata": {},
   "source": [
    "For each of the new images, print out the model's softmax probabilities to show the **certainty** of the model's predictions (limit the output to the top 5 probabilities for each image). [`tf.nn.top_k`](https://www.tensorflow.org/versions/r0.12/api_docs/python/nn.html#top_k) could prove helpful here. \n",
    "\n",
    "The example below demonstrates how tf.nn.top_k can be used to find the top k predictions for each image.\n",
    "\n",
    "`tf.nn.top_k` will return the values and indices (class ids) of the top k predictions. So if k=3, for each sign, it'll return the 3 largest probabilities (out of a possible 43) and the correspoding class ids.\n",
    "\n",
    "Take this numpy array as an example. The values in the array represent predictions. The array contains softmax probabilities for five candidate images with six possible classes. `tk.nn.top_k` is used to choose the three classes with the highest probability:\n",
    "\n",
    "```\n",
    "# (5, 6) array\n",
    "a = np.array([[ 0.24879643,  0.07032244,  0.12641572,  0.34763842,  0.07893497,\n",
    "         0.12789202],\n",
    "       [ 0.28086119,  0.27569815,  0.08594638,  0.0178669 ,  0.18063401,\n",
    "         0.15899337],\n",
    "       [ 0.26076848,  0.23664738,  0.08020603,  0.07001922,  0.1134371 ,\n",
    "         0.23892179],\n",
    "       [ 0.11943333,  0.29198961,  0.02605103,  0.26234032,  0.1351348 ,\n",
    "         0.16505091],\n",
    "       [ 0.09561176,  0.34396535,  0.0643941 ,  0.16240774,  0.24206137,\n",
    "         0.09155967]])\n",
    "```\n",
    "\n",
    "Running it through `sess.run(tf.nn.top_k(tf.constant(a), k=3))` produces:\n",
    "\n",
    "```\n",
    "TopKV2(values=array([[ 0.34763842,  0.24879643,  0.12789202],\n",
    "       [ 0.28086119,  0.27569815,  0.18063401],\n",
    "       [ 0.26076848,  0.23892179,  0.23664738],\n",
    "       [ 0.29198961,  0.26234032,  0.16505091],\n",
    "       [ 0.34396535,  0.24206137,  0.16240774]]), indices=array([[3, 0, 5],\n",
    "       [0, 1, 4],\n",
    "       [0, 5, 1],\n",
    "       [1, 3, 5],\n",
    "       [1, 4, 3]], dtype=int32))\n",
    "```\n",
    "\n",
    "Looking just at the first row we get `[ 0.34763842,  0.24879643,  0.12789202]`, you can confirm these are the 3 largest probabilities in `a`. You'll also notice `[3, 0, 5]` are the corresponding indices."
   ]
  }
 ],
 "metadata": {
  "anaconda-cloud": {},
  "kernelspec": {
   "display_name": "Python 3",
   "language": "python",
   "name": "python3"
  },
  "language_info": {
   "codemirror_mode": {
    "name": "ipython",
    "version": 3
   },
   "file_extension": ".py",
   "mimetype": "text/x-python",
   "name": "python",
   "nbconvert_exporter": "python",
   "pygments_lexer": "ipython3",
   "version": "3.5.6"
  }
 },
 "nbformat": 4,
 "nbformat_minor": 1
}
